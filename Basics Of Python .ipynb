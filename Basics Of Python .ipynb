{
 "cells": [
  {
   "cell_type": "markdown",
   "id": "ca0324f7-3ca0-41d8-b8e7-9a040695b296",
   "metadata": {},
   "source": [
    " ##Exercise 1. Prime Numbers ##"
   ]
  },
  {
   "cell_type": "code",
   "execution_count": 89,
   "id": "8a5899f7-c6bf-4934-9be5-231b25323172",
   "metadata": {},
   "outputs": [
    {
     "name": "stdout",
     "output_type": "stream",
     "text": [
      "7 is a prime number.\n",
      "7 is a prime number.\n",
      "7 is a prime number.\n",
      "7 is a prime number.\n",
      "7 is a prime number.\n"
     ]
    }
   ],
   "source": [
    "number = 7\n",
    "if number <= 1:\n",
    "    print(f\"{number} is not a prime number.\")\n",
    "else:\n",
    "    for i in range(2,number):\n",
    "        if number % i == 0:\n",
    "            print(f\"{number} is not a prime number.\")\n",
    "            break\n",
    "        else:\n",
    "            print(f\"{number} is a prime number.\")\n",
    "                  \n",
    "    "
   ]
  },
  {
   "cell_type": "markdown",
   "id": "a788d121-30c5-43d3-afba-fa1057646d95",
   "metadata": {},
   "source": [
    "## Exercise 2. Product of random numbers ##"
   ]
  },
  {
   "cell_type": "code",
   "execution_count": 97,
   "id": "a998119b-04e5-4633-9f2c-b96ef603a554",
   "metadata": {},
   "outputs": [
    {
     "name": "stdin",
     "output_type": "stream",
     "text": [
      "What is the product of 9 and 3 ? 27\n"
     ]
    },
    {
     "name": "stdout",
     "output_type": "stream",
     "text": [
      "Correct!Well done.\n"
     ]
    }
   ],
   "source": [
    "import random\n",
    "num1 = random.randint(1,10)\n",
    "num2=random.randint(1,10)\n",
    "user_answer = int(input(\"What is the product of {} and {} ?\". format (num1,num2)))\n",
    "correct_answer=num1*num2\n",
    "if user_answer==correct_answer:\n",
    "    print(\"Correct!Well done.\")\n",
    "else:\n",
    "    print(\" Oops! The correct answer is {}.\".format(correct_answer))"
   ]
  },
  {
   "cell_type": "markdown",
   "id": "e2a172f7-fcab-47de-9157-8d2107b5f986",
   "metadata": {},
   "source": [
    "## Exercise 3. Squares of even/odd numbers ##"
   ]
  },
  {
   "cell_type": "markdown",
   "id": "b8b0b7ff-61c0-4e7e-881f-3b32e96f4998",
   "metadata": {},
   "source": [
    "## For Even Numbers ##"
   ]
  },
  {
   "cell_type": "code",
   "execution_count": 99,
   "id": "bf8f3a68-36fa-441c-bef5-bdf92770128e",
   "metadata": {},
   "outputs": [
    {
     "name": "stdout",
     "output_type": "stream",
     "text": [
      "100 10000\n",
      "102 10404\n",
      "104 10816\n",
      "106 11236\n",
      "108 11664\n",
      "110 12100\n",
      "112 12544\n",
      "114 12996\n",
      "116 13456\n",
      "118 13924\n",
      "120 14400\n",
      "122 14884\n",
      "124 15376\n",
      "126 15876\n",
      "128 16384\n",
      "130 16900\n",
      "132 17424\n",
      "134 17956\n",
      "136 18496\n",
      "138 19044\n",
      "140 19600\n",
      "142 20164\n",
      "144 20736\n",
      "146 21316\n",
      "148 21904\n",
      "150 22500\n",
      "152 23104\n",
      "154 23716\n",
      "156 24336\n",
      "158 24964\n",
      "160 25600\n",
      "162 26244\n",
      "164 26896\n",
      "166 27556\n",
      "168 28224\n",
      "170 28900\n",
      "172 29584\n",
      "174 30276\n",
      "176 30976\n",
      "178 31684\n",
      "180 32400\n",
      "182 33124\n",
      "184 33856\n",
      "186 34596\n",
      "188 35344\n",
      "190 36100\n",
      "192 36864\n",
      "194 37636\n",
      "196 38416\n",
      "198 39204\n"
     ]
    }
   ],
   "source": [
    "for i in range (100,200,2):\n",
    "    print(i ,i**2)"
   ]
  },
  {
   "cell_type": "markdown",
   "id": "4f7a7faf-46aa-40e8-bea2-e05cda8d1cc3",
   "metadata": {},
   "source": [
    "## For odd numbers ##"
   ]
  },
  {
   "cell_type": "code",
   "execution_count": 129,
   "id": "bf7dab20-6c70-465f-aa1b-67313436691b",
   "metadata": {},
   "outputs": [
    {
     "name": "stdout",
     "output_type": "stream",
     "text": [
      "101 10201\n",
      "103 10609\n",
      "105 11025\n",
      "107 11449\n",
      "109 11881\n",
      "111 12321\n",
      "113 12769\n",
      "115 13225\n",
      "117 13689\n",
      "119 14161\n",
      "121 14641\n",
      "123 15129\n",
      "125 15625\n",
      "127 16129\n",
      "129 16641\n",
      "131 17161\n",
      "133 17689\n",
      "135 18225\n",
      "137 18769\n",
      "139 19321\n",
      "141 19881\n",
      "143 20449\n",
      "145 21025\n",
      "147 21609\n",
      "149 22201\n",
      "151 22801\n",
      "153 23409\n",
      "155 24025\n",
      "157 24649\n",
      "159 25281\n",
      "161 25921\n",
      "163 26569\n",
      "165 27225\n",
      "167 27889\n",
      "169 28561\n",
      "171 29241\n",
      "173 29929\n",
      "175 30625\n",
      "177 31329\n",
      "179 32041\n",
      "181 32761\n",
      "183 33489\n",
      "185 34225\n",
      "187 34969\n",
      "189 35721\n",
      "191 36481\n",
      "193 37249\n",
      "195 38025\n",
      "197 38809\n",
      "199 39601\n"
     ]
    }
   ],
   "source": [
    "for i in range (101,200,2):\n",
    "    print(i ,i**2)"
   ]
  },
  {
   "cell_type": "markdown",
   "id": "851fea1d-32e6-4012-be4e-09889fc0d628",
   "metadata": {},
   "source": [
    "## Exercise 4.Word counter ##"
   ]
  },
  {
   "cell_type": "code",
   "execution_count": 19,
   "id": "958f771a-8043-4003-bf83-dd6af44d5c1a",
   "metadata": {},
   "outputs": [
    {
     "name": "stdout",
     "output_type": "stream",
     "text": [
      "This':1\n",
      "Is':1\n",
      "A':1\n",
      "Sample':1\n",
      "Text.this':1\n",
      "Text':1\n",
      "Will':1\n",
      "Be':1\n",
      "Used':1\n",
      "To':1\n",
      "Demonstrate':1\n",
      "The':1\n",
      "Word':1\n",
      "Counter':1\n"
     ]
    }
   ],
   "source": [
    "from collections import Counter\n",
    "input_text=\"This is a sample text.This text will be used to demonstrate the word counter\"\n",
    "words=input_text.lower().split()\n",
    "word_count=Counter(words)\n",
    "for word,count in word_count.items():\n",
    "    print(f\"{word.capitalize()}':{count}\")"
   ]
  },
  {
   "cell_type": "markdown",
   "id": "e88dfefb-e692-4c1b-9a81-d0befaa6d8ac",
   "metadata": {},
   "source": [
    "## Exercise 5: Check for Palindrome ##"
   ]
  },
  {
   "cell_type": "code",
   "execution_count": 183,
   "id": "3efc5251-5a6e-4264-9044-fcbe7464de00",
   "metadata": {},
   "outputs": [
    {
     "name": "stdout",
     "output_type": "stream",
     "text": [
      "True\n"
     ]
    }
   ],
   "source": [
    "import string\n",
    "def is_palindrome(s):\n",
    "    cleaned_str= ''.join(e for e in s.lower()if e.isalnum())\n",
    "    return cleaned_str==cleaned_str[::-1]\n",
    "\n",
    "input_str=\"Racecar\"\n",
    "print(is_palindrome(input_str))"
   ]
  }
 ],
 "metadata": {
  "kernelspec": {
   "display_name": "Python 3 (ipykernel)",
   "language": "python",
   "name": "python3"
  },
  "language_info": {
   "codemirror_mode": {
    "name": "ipython",
    "version": 3
   },
   "file_extension": ".py",
   "mimetype": "text/x-python",
   "name": "python",
   "nbconvert_exporter": "python",
   "pygments_lexer": "ipython3",
   "version": "3.12.4"
  }
 },
 "nbformat": 4,
 "nbformat_minor": 5
}
