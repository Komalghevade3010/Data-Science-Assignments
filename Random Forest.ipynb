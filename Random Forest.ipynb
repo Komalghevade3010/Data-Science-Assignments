{
 "cells": [
  {
   "cell_type": "code",
   "execution_count": 129,
   "id": "3f30e8f6-79f2-4269-b9d7-cc1e44fd4023",
   "metadata": {},
   "outputs": [],
   "source": [
    "import pandas as pd\n",
    "import matplotlib.pyplot as plt\n",
    "import seaborn as sns"
   ]
  },
  {
   "cell_type": "code",
   "execution_count": 131,
   "id": "f809230a-18e6-4511-ad34-762e03693f85",
   "metadata": {},
   "outputs": [],
   "source": [
    "df=pd.read_csv(\"C:/Users/gheva/OneDrive/Desktop/glass 1.csv\")"
   ]
  },
  {
   "cell_type": "code",
   "execution_count": 133,
   "id": "2ba8d405-fb6d-4125-82e6-7069e29f2667",
   "metadata": {},
   "outputs": [
    {
     "data": {
      "text/html": [
       "<div>\n",
       "<style scoped>\n",
       "    .dataframe tbody tr th:only-of-type {\n",
       "        vertical-align: middle;\n",
       "    }\n",
       "\n",
       "    .dataframe tbody tr th {\n",
       "        vertical-align: top;\n",
       "    }\n",
       "\n",
       "    .dataframe thead th {\n",
       "        text-align: right;\n",
       "    }\n",
       "</style>\n",
       "<table border=\"1\" class=\"dataframe\">\n",
       "  <thead>\n",
       "    <tr style=\"text-align: right;\">\n",
       "      <th></th>\n",
       "      <th>RI</th>\n",
       "      <th>Na</th>\n",
       "      <th>Mg</th>\n",
       "      <th>Al</th>\n",
       "      <th>Si</th>\n",
       "      <th>K</th>\n",
       "      <th>Ca</th>\n",
       "      <th>Ba</th>\n",
       "      <th>Fe</th>\n",
       "      <th>Type</th>\n",
       "    </tr>\n",
       "  </thead>\n",
       "  <tbody>\n",
       "    <tr>\n",
       "      <th>0</th>\n",
       "      <td>1.52101</td>\n",
       "      <td>13.64</td>\n",
       "      <td>4.49</td>\n",
       "      <td>1.10</td>\n",
       "      <td>71.78</td>\n",
       "      <td>0.06</td>\n",
       "      <td>8.75</td>\n",
       "      <td>0.00</td>\n",
       "      <td>0.0</td>\n",
       "      <td>1</td>\n",
       "    </tr>\n",
       "    <tr>\n",
       "      <th>1</th>\n",
       "      <td>1.51761</td>\n",
       "      <td>13.89</td>\n",
       "      <td>3.60</td>\n",
       "      <td>1.36</td>\n",
       "      <td>72.73</td>\n",
       "      <td>0.48</td>\n",
       "      <td>7.83</td>\n",
       "      <td>0.00</td>\n",
       "      <td>0.0</td>\n",
       "      <td>1</td>\n",
       "    </tr>\n",
       "    <tr>\n",
       "      <th>2</th>\n",
       "      <td>1.51618</td>\n",
       "      <td>13.53</td>\n",
       "      <td>3.55</td>\n",
       "      <td>1.54</td>\n",
       "      <td>72.99</td>\n",
       "      <td>0.39</td>\n",
       "      <td>7.78</td>\n",
       "      <td>0.00</td>\n",
       "      <td>0.0</td>\n",
       "      <td>1</td>\n",
       "    </tr>\n",
       "    <tr>\n",
       "      <th>3</th>\n",
       "      <td>1.51766</td>\n",
       "      <td>13.21</td>\n",
       "      <td>3.69</td>\n",
       "      <td>1.29</td>\n",
       "      <td>72.61</td>\n",
       "      <td>0.57</td>\n",
       "      <td>8.22</td>\n",
       "      <td>0.00</td>\n",
       "      <td>0.0</td>\n",
       "      <td>1</td>\n",
       "    </tr>\n",
       "    <tr>\n",
       "      <th>4</th>\n",
       "      <td>1.51742</td>\n",
       "      <td>13.27</td>\n",
       "      <td>3.62</td>\n",
       "      <td>1.24</td>\n",
       "      <td>73.08</td>\n",
       "      <td>0.55</td>\n",
       "      <td>8.07</td>\n",
       "      <td>0.00</td>\n",
       "      <td>0.0</td>\n",
       "      <td>1</td>\n",
       "    </tr>\n",
       "    <tr>\n",
       "      <th>...</th>\n",
       "      <td>...</td>\n",
       "      <td>...</td>\n",
       "      <td>...</td>\n",
       "      <td>...</td>\n",
       "      <td>...</td>\n",
       "      <td>...</td>\n",
       "      <td>...</td>\n",
       "      <td>...</td>\n",
       "      <td>...</td>\n",
       "      <td>...</td>\n",
       "    </tr>\n",
       "    <tr>\n",
       "      <th>209</th>\n",
       "      <td>1.51623</td>\n",
       "      <td>14.14</td>\n",
       "      <td>0.00</td>\n",
       "      <td>2.88</td>\n",
       "      <td>72.61</td>\n",
       "      <td>0.08</td>\n",
       "      <td>9.18</td>\n",
       "      <td>1.06</td>\n",
       "      <td>0.0</td>\n",
       "      <td>7</td>\n",
       "    </tr>\n",
       "    <tr>\n",
       "      <th>210</th>\n",
       "      <td>1.51685</td>\n",
       "      <td>14.92</td>\n",
       "      <td>0.00</td>\n",
       "      <td>1.99</td>\n",
       "      <td>73.06</td>\n",
       "      <td>0.00</td>\n",
       "      <td>8.40</td>\n",
       "      <td>1.59</td>\n",
       "      <td>0.0</td>\n",
       "      <td>7</td>\n",
       "    </tr>\n",
       "    <tr>\n",
       "      <th>211</th>\n",
       "      <td>1.52065</td>\n",
       "      <td>14.36</td>\n",
       "      <td>0.00</td>\n",
       "      <td>2.02</td>\n",
       "      <td>73.42</td>\n",
       "      <td>0.00</td>\n",
       "      <td>8.44</td>\n",
       "      <td>1.64</td>\n",
       "      <td>0.0</td>\n",
       "      <td>7</td>\n",
       "    </tr>\n",
       "    <tr>\n",
       "      <th>212</th>\n",
       "      <td>1.51651</td>\n",
       "      <td>14.38</td>\n",
       "      <td>0.00</td>\n",
       "      <td>1.94</td>\n",
       "      <td>73.61</td>\n",
       "      <td>0.00</td>\n",
       "      <td>8.48</td>\n",
       "      <td>1.57</td>\n",
       "      <td>0.0</td>\n",
       "      <td>7</td>\n",
       "    </tr>\n",
       "    <tr>\n",
       "      <th>213</th>\n",
       "      <td>1.51711</td>\n",
       "      <td>14.23</td>\n",
       "      <td>0.00</td>\n",
       "      <td>2.08</td>\n",
       "      <td>73.36</td>\n",
       "      <td>0.00</td>\n",
       "      <td>8.62</td>\n",
       "      <td>1.67</td>\n",
       "      <td>0.0</td>\n",
       "      <td>7</td>\n",
       "    </tr>\n",
       "  </tbody>\n",
       "</table>\n",
       "<p>214 rows × 10 columns</p>\n",
       "</div>"
      ],
      "text/plain": [
       "          RI     Na    Mg    Al     Si     K    Ca    Ba   Fe  Type\n",
       "0    1.52101  13.64  4.49  1.10  71.78  0.06  8.75  0.00  0.0     1\n",
       "1    1.51761  13.89  3.60  1.36  72.73  0.48  7.83  0.00  0.0     1\n",
       "2    1.51618  13.53  3.55  1.54  72.99  0.39  7.78  0.00  0.0     1\n",
       "3    1.51766  13.21  3.69  1.29  72.61  0.57  8.22  0.00  0.0     1\n",
       "4    1.51742  13.27  3.62  1.24  73.08  0.55  8.07  0.00  0.0     1\n",
       "..       ...    ...   ...   ...    ...   ...   ...   ...  ...   ...\n",
       "209  1.51623  14.14  0.00  2.88  72.61  0.08  9.18  1.06  0.0     7\n",
       "210  1.51685  14.92  0.00  1.99  73.06  0.00  8.40  1.59  0.0     7\n",
       "211  1.52065  14.36  0.00  2.02  73.42  0.00  8.44  1.64  0.0     7\n",
       "212  1.51651  14.38  0.00  1.94  73.61  0.00  8.48  1.57  0.0     7\n",
       "213  1.51711  14.23  0.00  2.08  73.36  0.00  8.62  1.67  0.0     7\n",
       "\n",
       "[214 rows x 10 columns]"
      ]
     },
     "execution_count": 133,
     "metadata": {},
     "output_type": "execute_result"
    }
   ],
   "source": [
    "df"
   ]
  },
  {
   "cell_type": "code",
   "execution_count": 135,
   "id": "d8d28694-5f02-4d02-88c8-4284f69bd8ce",
   "metadata": {},
   "outputs": [
    {
     "data": {
      "text/html": [
       "<div>\n",
       "<style scoped>\n",
       "    .dataframe tbody tr th:only-of-type {\n",
       "        vertical-align: middle;\n",
       "    }\n",
       "\n",
       "    .dataframe tbody tr th {\n",
       "        vertical-align: top;\n",
       "    }\n",
       "\n",
       "    .dataframe thead th {\n",
       "        text-align: right;\n",
       "    }\n",
       "</style>\n",
       "<table border=\"1\" class=\"dataframe\">\n",
       "  <thead>\n",
       "    <tr style=\"text-align: right;\">\n",
       "      <th></th>\n",
       "      <th>RI</th>\n",
       "      <th>Na</th>\n",
       "      <th>Mg</th>\n",
       "      <th>Al</th>\n",
       "      <th>Si</th>\n",
       "      <th>K</th>\n",
       "      <th>Ca</th>\n",
       "      <th>Ba</th>\n",
       "      <th>Fe</th>\n",
       "      <th>Type</th>\n",
       "    </tr>\n",
       "  </thead>\n",
       "  <tbody>\n",
       "    <tr>\n",
       "      <th>0</th>\n",
       "      <td>1.52101</td>\n",
       "      <td>13.64</td>\n",
       "      <td>4.49</td>\n",
       "      <td>1.10</td>\n",
       "      <td>71.78</td>\n",
       "      <td>0.06</td>\n",
       "      <td>8.75</td>\n",
       "      <td>0.0</td>\n",
       "      <td>0.0</td>\n",
       "      <td>1</td>\n",
       "    </tr>\n",
       "    <tr>\n",
       "      <th>1</th>\n",
       "      <td>1.51761</td>\n",
       "      <td>13.89</td>\n",
       "      <td>3.60</td>\n",
       "      <td>1.36</td>\n",
       "      <td>72.73</td>\n",
       "      <td>0.48</td>\n",
       "      <td>7.83</td>\n",
       "      <td>0.0</td>\n",
       "      <td>0.0</td>\n",
       "      <td>1</td>\n",
       "    </tr>\n",
       "    <tr>\n",
       "      <th>2</th>\n",
       "      <td>1.51618</td>\n",
       "      <td>13.53</td>\n",
       "      <td>3.55</td>\n",
       "      <td>1.54</td>\n",
       "      <td>72.99</td>\n",
       "      <td>0.39</td>\n",
       "      <td>7.78</td>\n",
       "      <td>0.0</td>\n",
       "      <td>0.0</td>\n",
       "      <td>1</td>\n",
       "    </tr>\n",
       "    <tr>\n",
       "      <th>3</th>\n",
       "      <td>1.51766</td>\n",
       "      <td>13.21</td>\n",
       "      <td>3.69</td>\n",
       "      <td>1.29</td>\n",
       "      <td>72.61</td>\n",
       "      <td>0.57</td>\n",
       "      <td>8.22</td>\n",
       "      <td>0.0</td>\n",
       "      <td>0.0</td>\n",
       "      <td>1</td>\n",
       "    </tr>\n",
       "    <tr>\n",
       "      <th>4</th>\n",
       "      <td>1.51742</td>\n",
       "      <td>13.27</td>\n",
       "      <td>3.62</td>\n",
       "      <td>1.24</td>\n",
       "      <td>73.08</td>\n",
       "      <td>0.55</td>\n",
       "      <td>8.07</td>\n",
       "      <td>0.0</td>\n",
       "      <td>0.0</td>\n",
       "      <td>1</td>\n",
       "    </tr>\n",
       "  </tbody>\n",
       "</table>\n",
       "</div>"
      ],
      "text/plain": [
       "        RI     Na    Mg    Al     Si     K    Ca   Ba   Fe  Type\n",
       "0  1.52101  13.64  4.49  1.10  71.78  0.06  8.75  0.0  0.0     1\n",
       "1  1.51761  13.89  3.60  1.36  72.73  0.48  7.83  0.0  0.0     1\n",
       "2  1.51618  13.53  3.55  1.54  72.99  0.39  7.78  0.0  0.0     1\n",
       "3  1.51766  13.21  3.69  1.29  72.61  0.57  8.22  0.0  0.0     1\n",
       "4  1.51742  13.27  3.62  1.24  73.08  0.55  8.07  0.0  0.0     1"
      ]
     },
     "execution_count": 135,
     "metadata": {},
     "output_type": "execute_result"
    }
   ],
   "source": [
    "df.head()"
   ]
  },
  {
   "cell_type": "code",
   "execution_count": 137,
   "id": "d697a97e-e173-49a9-813f-01d3be064428",
   "metadata": {},
   "outputs": [
    {
     "data": {
      "text/html": [
       "<div>\n",
       "<style scoped>\n",
       "    .dataframe tbody tr th:only-of-type {\n",
       "        vertical-align: middle;\n",
       "    }\n",
       "\n",
       "    .dataframe tbody tr th {\n",
       "        vertical-align: top;\n",
       "    }\n",
       "\n",
       "    .dataframe thead th {\n",
       "        text-align: right;\n",
       "    }\n",
       "</style>\n",
       "<table border=\"1\" class=\"dataframe\">\n",
       "  <thead>\n",
       "    <tr style=\"text-align: right;\">\n",
       "      <th></th>\n",
       "      <th>RI</th>\n",
       "      <th>Na</th>\n",
       "      <th>Mg</th>\n",
       "      <th>Al</th>\n",
       "      <th>Si</th>\n",
       "      <th>K</th>\n",
       "      <th>Ca</th>\n",
       "      <th>Ba</th>\n",
       "      <th>Fe</th>\n",
       "      <th>Type</th>\n",
       "    </tr>\n",
       "  </thead>\n",
       "  <tbody>\n",
       "    <tr>\n",
       "      <th>209</th>\n",
       "      <td>1.51623</td>\n",
       "      <td>14.14</td>\n",
       "      <td>0.0</td>\n",
       "      <td>2.88</td>\n",
       "      <td>72.61</td>\n",
       "      <td>0.08</td>\n",
       "      <td>9.18</td>\n",
       "      <td>1.06</td>\n",
       "      <td>0.0</td>\n",
       "      <td>7</td>\n",
       "    </tr>\n",
       "    <tr>\n",
       "      <th>210</th>\n",
       "      <td>1.51685</td>\n",
       "      <td>14.92</td>\n",
       "      <td>0.0</td>\n",
       "      <td>1.99</td>\n",
       "      <td>73.06</td>\n",
       "      <td>0.00</td>\n",
       "      <td>8.40</td>\n",
       "      <td>1.59</td>\n",
       "      <td>0.0</td>\n",
       "      <td>7</td>\n",
       "    </tr>\n",
       "    <tr>\n",
       "      <th>211</th>\n",
       "      <td>1.52065</td>\n",
       "      <td>14.36</td>\n",
       "      <td>0.0</td>\n",
       "      <td>2.02</td>\n",
       "      <td>73.42</td>\n",
       "      <td>0.00</td>\n",
       "      <td>8.44</td>\n",
       "      <td>1.64</td>\n",
       "      <td>0.0</td>\n",
       "      <td>7</td>\n",
       "    </tr>\n",
       "    <tr>\n",
       "      <th>212</th>\n",
       "      <td>1.51651</td>\n",
       "      <td>14.38</td>\n",
       "      <td>0.0</td>\n",
       "      <td>1.94</td>\n",
       "      <td>73.61</td>\n",
       "      <td>0.00</td>\n",
       "      <td>8.48</td>\n",
       "      <td>1.57</td>\n",
       "      <td>0.0</td>\n",
       "      <td>7</td>\n",
       "    </tr>\n",
       "    <tr>\n",
       "      <th>213</th>\n",
       "      <td>1.51711</td>\n",
       "      <td>14.23</td>\n",
       "      <td>0.0</td>\n",
       "      <td>2.08</td>\n",
       "      <td>73.36</td>\n",
       "      <td>0.00</td>\n",
       "      <td>8.62</td>\n",
       "      <td>1.67</td>\n",
       "      <td>0.0</td>\n",
       "      <td>7</td>\n",
       "    </tr>\n",
       "  </tbody>\n",
       "</table>\n",
       "</div>"
      ],
      "text/plain": [
       "          RI     Na   Mg    Al     Si     K    Ca    Ba   Fe  Type\n",
       "209  1.51623  14.14  0.0  2.88  72.61  0.08  9.18  1.06  0.0     7\n",
       "210  1.51685  14.92  0.0  1.99  73.06  0.00  8.40  1.59  0.0     7\n",
       "211  1.52065  14.36  0.0  2.02  73.42  0.00  8.44  1.64  0.0     7\n",
       "212  1.51651  14.38  0.0  1.94  73.61  0.00  8.48  1.57  0.0     7\n",
       "213  1.51711  14.23  0.0  2.08  73.36  0.00  8.62  1.67  0.0     7"
      ]
     },
     "execution_count": 137,
     "metadata": {},
     "output_type": "execute_result"
    }
   ],
   "source": [
    "df.tail()"
   ]
  },
  {
   "cell_type": "markdown",
   "id": "ec757994-a47a-42b2-bb96-cbcfa2741528",
   "metadata": {},
   "source": [
    "## EDA ##"
   ]
  },
  {
   "cell_type": "code",
   "execution_count": 139,
   "id": "a0a22936-95d3-4104-a1a5-0fce99beb427",
   "metadata": {},
   "outputs": [
    {
     "data": {
      "text/plain": [
       "RI      0\n",
       "Na      0\n",
       "Mg      0\n",
       "Al      0\n",
       "Si      0\n",
       "K       0\n",
       "Ca      0\n",
       "Ba      0\n",
       "Fe      0\n",
       "Type    0\n",
       "dtype: int64"
      ]
     },
     "execution_count": 139,
     "metadata": {},
     "output_type": "execute_result"
    }
   ],
   "source": [
    "df.isna().sum()"
   ]
  },
  {
   "cell_type": "code",
   "execution_count": 143,
   "id": "69604eda-aa65-4bf4-86d4-8747515205f5",
   "metadata": {},
   "outputs": [
    {
     "name": "stdout",
     "output_type": "stream",
     "text": [
      "<class 'pandas.core.frame.DataFrame'>\n",
      "RangeIndex: 214 entries, 0 to 213\n",
      "Data columns (total 10 columns):\n",
      " #   Column  Non-Null Count  Dtype  \n",
      "---  ------  --------------  -----  \n",
      " 0   RI      214 non-null    float64\n",
      " 1   Na      214 non-null    float64\n",
      " 2   Mg      214 non-null    float64\n",
      " 3   Al      214 non-null    float64\n",
      " 4   Si      214 non-null    float64\n",
      " 5   K       214 non-null    float64\n",
      " 6   Ca      214 non-null    float64\n",
      " 7   Ba      214 non-null    float64\n",
      " 8   Fe      214 non-null    float64\n",
      " 9   Type    214 non-null    int64  \n",
      "dtypes: float64(9), int64(1)\n",
      "memory usage: 16.8 KB\n"
     ]
    }
   ],
   "source": [
    "df.info()"
   ]
  },
  {
   "cell_type": "code",
   "execution_count": 147,
   "id": "152ed247-08af-4f1a-9bd0-7c0b147b33f4",
   "metadata": {},
   "outputs": [
    {
     "data": {
      "text/plain": [
       "array([[<Axes: title={'center': 'RI'}>, <Axes: title={'center': 'Na'}>,\n",
       "        <Axes: title={'center': 'Mg'}>],\n",
       "       [<Axes: title={'center': 'Al'}>, <Axes: title={'center': 'Si'}>,\n",
       "        <Axes: title={'center': 'K'}>],\n",
       "       [<Axes: title={'center': 'Ca'}>, <Axes: title={'center': 'Ba'}>,\n",
       "        <Axes: title={'center': 'Fe'}>],\n",
       "       [<Axes: title={'center': 'Type'}>, <Axes: >, <Axes: >]],\n",
       "      dtype=object)"
      ]
     },
     "execution_count": 147,
     "metadata": {},
     "output_type": "execute_result"
    }
   ],
   "source": [
    "df.hist()"
   ]
  },
  {
   "cell_type": "code",
   "execution_count": 155,
   "id": "6279787b-15f4-4b23-921e-09fc3ff481a3",
   "metadata": {},
   "outputs": [
    {
     "data": {
      "text/plain": [
       "<Axes: >"
      ]
     },
     "execution_count": 155,
     "metadata": {},
     "output_type": "execute_result"
    }
   ],
   "source": [
    "df.boxplot()"
   ]
  },
  {
   "cell_type": "code",
   "execution_count": 157,
   "id": "f7a08f71-2fbd-4fdd-91c7-dada710c0a10",
   "metadata": {},
   "outputs": [],
   "source": [
    "def outlier_detection(data,colname):\n",
    "  q1 = data[colname].quantile(0.25)\n",
    "  q3 = data[colname].quantile(0.75)\n",
    "  iqr = q3 - q1\n",
    "\n",
    "  upper_extreme = q3 + (1.5 * iqr)\n",
    "  lower_extreme = q1 - (1.5 * iqr)\n",
    "\n",
    "  return lower_extreme, upper_extreme,q1,q3"
   ]
  },
  {
   "cell_type": "code",
   "execution_count": 159,
   "id": "4d2e1f30-4517-4199-a3da-edbfdeff88df",
   "metadata": {},
   "outputs": [
    {
     "data": {
      "text/plain": [
       "(1.5125700000000002, 1.52311, 1.5165225, 1.5191575)"
      ]
     },
     "execution_count": 159,
     "metadata": {},
     "output_type": "execute_result"
    }
   ],
   "source": [
    "outlier_detection(df,'RI')"
   ]
  },
  {
   "cell_type": "code",
   "execution_count": 161,
   "id": "3494b1fc-83ed-4754-a686-8a1ecd253a3c",
   "metadata": {},
   "outputs": [],
   "source": [
    "df.loc[df['RI']>2,'RI'] = 2"
   ]
  },
  {
   "cell_type": "code",
   "execution_count": 163,
   "id": "28b17072-e07d-45fd-998f-25c1ded6a9dc",
   "metadata": {},
   "outputs": [],
   "source": [
    "df.loc[df['RI']<2,'RI'] = 2"
   ]
  },
  {
   "cell_type": "code",
   "execution_count": 165,
   "id": "924c6798-befc-44b4-8dc8-18882fb9a233",
   "metadata": {},
   "outputs": [
    {
     "data": {
      "text/plain": [
       "(11.531250000000004, 15.201249999999998, 12.9075, 13.825)"
      ]
     },
     "execution_count": 165,
     "metadata": {},
     "output_type": "execute_result"
    }
   ],
   "source": [
    "outlier_detection(df,'Na')"
   ]
  },
  {
   "cell_type": "code",
   "execution_count": 167,
   "id": "135aaa91-19dc-4ca0-af9f-024e2acff19d",
   "metadata": {},
   "outputs": [],
   "source": [
    "df.loc[df['Na']>15,'Na'] = 15"
   ]
  },
  {
   "cell_type": "code",
   "execution_count": 169,
   "id": "f2fde1a3-e6ec-40f8-b299-9cccc40f5efa",
   "metadata": {},
   "outputs": [],
   "source": [
    "df.loc[df['Na']<11,'Na'] = 11"
   ]
  },
  {
   "cell_type": "code",
   "execution_count": 171,
   "id": "de703984-c57d-4f18-b9c6-b0c29522462e",
   "metadata": {},
   "outputs": [
    {
     "data": {
      "text/plain": [
       "(0.53, 2.29, 1.19, 1.63)"
      ]
     },
     "execution_count": 171,
     "metadata": {},
     "output_type": "execute_result"
    }
   ],
   "source": [
    "outlier_detection(df,'Al')"
   ]
  },
  {
   "cell_type": "code",
   "execution_count": 173,
   "id": "8a7d28ee-1519-46cd-9707-71597861c946",
   "metadata": {},
   "outputs": [],
   "source": [
    "df.loc[df['Al']>2,'Al'] = 2"
   ]
  },
  {
   "cell_type": "code",
   "execution_count": 175,
   "id": "6f5d3283-6048-4aca-aaf1-269da6064bc2",
   "metadata": {},
   "outputs": [],
   "source": [
    "df.loc[df['Al']<1,'Al'] = 1"
   ]
  },
  {
   "cell_type": "code",
   "execution_count": 177,
   "id": "3d75d7e3-16ce-4452-80ad-4e22aefaae51",
   "metadata": {},
   "outputs": [
    {
     "data": {
      "text/plain": [
       "(-0.6087499999999999, 1.34125, 0.1225, 0.61)"
      ]
     },
     "execution_count": 177,
     "metadata": {},
     "output_type": "execute_result"
    }
   ],
   "source": [
    "outlier_detection(df,'K')"
   ]
  },
  {
   "cell_type": "code",
   "execution_count": 179,
   "id": "5b9c4c62-9843-4f9c-a778-cb7ca12e50b0",
   "metadata": {},
   "outputs": [],
   "source": [
    "df.loc[df['K']>1,'K'] = 1"
   ]
  },
  {
   "cell_type": "code",
   "execution_count": 181,
   "id": "61b3e322-c35c-4b0c-bf98-60dbd1d501b2",
   "metadata": {},
   "outputs": [],
   "source": [
    "df.loc[df['K']<-0,'K'] = -0"
   ]
  },
  {
   "cell_type": "code",
   "execution_count": 183,
   "id": "e1e3009d-0e20-4969-b294-afce5b5c9d3f",
   "metadata": {},
   "outputs": [
    {
     "data": {
      "text/plain": [
       "(6.841250000000001, 10.57125, 8.24, 9.1725)"
      ]
     },
     "execution_count": 183,
     "metadata": {},
     "output_type": "execute_result"
    }
   ],
   "source": [
    "outlier_detection(df,'Ca')"
   ]
  },
  {
   "cell_type": "code",
   "execution_count": 185,
   "id": "ef46e057-ec50-4c35-b02b-ecc0bc48018d",
   "metadata": {},
   "outputs": [],
   "source": [
    "df.loc[df['Ca']>10,'Ca'] = 10"
   ]
  },
  {
   "cell_type": "code",
   "execution_count": 187,
   "id": "5923763d-2699-48e3-bc9f-c17257828562",
   "metadata": {},
   "outputs": [],
   "source": [
    "df.loc[df['Ca']<7,'Ca'] = 7"
   ]
  },
  {
   "cell_type": "code",
   "execution_count": 189,
   "id": "55b545c1-ee61-4d68-a57d-b9c5a3cc67af",
   "metadata": {},
   "outputs": [
    {
     "data": {
      "text/plain": [
       "(0.0, 0.0, 0.0, 0.0)"
      ]
     },
     "execution_count": 189,
     "metadata": {},
     "output_type": "execute_result"
    }
   ],
   "source": [
    "outlier_detection(df,'Ba')"
   ]
  },
  {
   "cell_type": "code",
   "execution_count": 191,
   "id": "10c826ca-3879-43aa-93ef-96eae5409342",
   "metadata": {},
   "outputs": [],
   "source": [
    "df.loc[df['Ba']>0,'Ba'] = 0"
   ]
  },
  {
   "cell_type": "code",
   "execution_count": 193,
   "id": "9dee256e-1921-4d89-a1ec-8885fec74958",
   "metadata": {},
   "outputs": [],
   "source": [
    "df.loc[df['Ba']<0,'Ba'] = 0"
   ]
  },
  {
   "cell_type": "code",
   "execution_count": 195,
   "id": "5e5a3d41-14f3-4f94-b0f8-543fe739a839",
   "metadata": {},
   "outputs": [
    {
     "data": {
      "text/plain": [
       "(-0.15000000000000002, 0.25, 0.0, 0.1)"
      ]
     },
     "execution_count": 195,
     "metadata": {},
     "output_type": "execute_result"
    }
   ],
   "source": [
    "outlier_detection(df,'Fe')"
   ]
  },
  {
   "cell_type": "code",
   "execution_count": 197,
   "id": "a8833402-e430-49eb-ae45-d90871bbe6b6",
   "metadata": {},
   "outputs": [],
   "source": [
    "df.loc[df['Fe']>0,'Fe'] = 0"
   ]
  },
  {
   "cell_type": "code",
   "execution_count": 199,
   "id": "258cbcaf-e667-4118-8bc7-6fb767db822c",
   "metadata": {},
   "outputs": [],
   "source": [
    "df.loc[df['Fe']<-0,'Fe'] = -0"
   ]
  },
  {
   "cell_type": "code",
   "execution_count": 201,
   "id": "0c4e71f6-9802-4bc4-8db6-26e0eb0187d2",
   "metadata": {},
   "outputs": [
    {
     "data": {
      "text/plain": [
       "(-2.0, 6.0, 1.0, 3.0)"
      ]
     },
     "execution_count": 201,
     "metadata": {},
     "output_type": "execute_result"
    }
   ],
   "source": [
    "outlier_detection(df,'Type')"
   ]
  },
  {
   "cell_type": "code",
   "execution_count": 203,
   "id": "bfa014ee-530a-464b-8066-9754be174eb2",
   "metadata": {},
   "outputs": [],
   "source": [
    "df.loc[df['Type']>6,'Type'] = 6"
   ]
  },
  {
   "cell_type": "code",
   "execution_count": 205,
   "id": "0dd4b8d8-0150-4767-9d8e-f1e3e9b9829e",
   "metadata": {},
   "outputs": [],
   "source": [
    "df.loc[df['Type']<-2,'Type'] = -2"
   ]
  },
  {
   "cell_type": "code",
   "execution_count": 207,
   "id": "771fd2c6-9b4b-45d3-9742-fc77cff54d40",
   "metadata": {},
   "outputs": [
    {
     "data": {
      "text/plain": [
       "<Axes: >"
      ]
     },
     "execution_count": 207,
     "metadata": {},
     "output_type": "execute_result"
    }
   ],
   "source": [
    "df.boxplot()"
   ]
  },
  {
   "cell_type": "code",
   "execution_count": 209,
   "id": "00132eff-471b-4d61-8c52-b4e0d94b26e1",
   "metadata": {},
   "outputs": [],
   "source": [
    "df.drop(columns=['RI'],inplace=True)"
   ]
  },
  {
   "cell_type": "code",
   "execution_count": 213,
   "id": "6b4135db-3226-40c4-96ee-72b6e8b35092",
   "metadata": {},
   "outputs": [
    {
     "data": {
      "text/html": [
       "<div>\n",
       "<style scoped>\n",
       "    .dataframe tbody tr th:only-of-type {\n",
       "        vertical-align: middle;\n",
       "    }\n",
       "\n",
       "    .dataframe tbody tr th {\n",
       "        vertical-align: top;\n",
       "    }\n",
       "\n",
       "    .dataframe thead th {\n",
       "        text-align: right;\n",
       "    }\n",
       "</style>\n",
       "<table border=\"1\" class=\"dataframe\">\n",
       "  <thead>\n",
       "    <tr style=\"text-align: right;\">\n",
       "      <th></th>\n",
       "      <th>Na</th>\n",
       "      <th>Mg</th>\n",
       "      <th>Al</th>\n",
       "      <th>Si</th>\n",
       "      <th>K</th>\n",
       "      <th>Ca</th>\n",
       "      <th>Ba</th>\n",
       "      <th>Fe</th>\n",
       "      <th>Type</th>\n",
       "    </tr>\n",
       "  </thead>\n",
       "  <tbody>\n",
       "    <tr>\n",
       "      <th>0</th>\n",
       "      <td>13.64</td>\n",
       "      <td>4.49</td>\n",
       "      <td>1.10</td>\n",
       "      <td>71.78</td>\n",
       "      <td>0.06</td>\n",
       "      <td>8.75</td>\n",
       "      <td>0.0</td>\n",
       "      <td>0.0</td>\n",
       "      <td>1</td>\n",
       "    </tr>\n",
       "    <tr>\n",
       "      <th>1</th>\n",
       "      <td>13.89</td>\n",
       "      <td>3.60</td>\n",
       "      <td>1.36</td>\n",
       "      <td>72.73</td>\n",
       "      <td>0.48</td>\n",
       "      <td>7.83</td>\n",
       "      <td>0.0</td>\n",
       "      <td>0.0</td>\n",
       "      <td>1</td>\n",
       "    </tr>\n",
       "    <tr>\n",
       "      <th>2</th>\n",
       "      <td>13.53</td>\n",
       "      <td>3.55</td>\n",
       "      <td>1.54</td>\n",
       "      <td>72.99</td>\n",
       "      <td>0.39</td>\n",
       "      <td>7.78</td>\n",
       "      <td>0.0</td>\n",
       "      <td>0.0</td>\n",
       "      <td>1</td>\n",
       "    </tr>\n",
       "    <tr>\n",
       "      <th>3</th>\n",
       "      <td>13.21</td>\n",
       "      <td>3.69</td>\n",
       "      <td>1.29</td>\n",
       "      <td>72.61</td>\n",
       "      <td>0.57</td>\n",
       "      <td>8.22</td>\n",
       "      <td>0.0</td>\n",
       "      <td>0.0</td>\n",
       "      <td>1</td>\n",
       "    </tr>\n",
       "    <tr>\n",
       "      <th>4</th>\n",
       "      <td>13.27</td>\n",
       "      <td>3.62</td>\n",
       "      <td>1.24</td>\n",
       "      <td>73.08</td>\n",
       "      <td>0.55</td>\n",
       "      <td>8.07</td>\n",
       "      <td>0.0</td>\n",
       "      <td>0.0</td>\n",
       "      <td>1</td>\n",
       "    </tr>\n",
       "    <tr>\n",
       "      <th>...</th>\n",
       "      <td>...</td>\n",
       "      <td>...</td>\n",
       "      <td>...</td>\n",
       "      <td>...</td>\n",
       "      <td>...</td>\n",
       "      <td>...</td>\n",
       "      <td>...</td>\n",
       "      <td>...</td>\n",
       "      <td>...</td>\n",
       "    </tr>\n",
       "    <tr>\n",
       "      <th>209</th>\n",
       "      <td>14.14</td>\n",
       "      <td>0.00</td>\n",
       "      <td>2.00</td>\n",
       "      <td>72.61</td>\n",
       "      <td>0.08</td>\n",
       "      <td>9.18</td>\n",
       "      <td>0.0</td>\n",
       "      <td>0.0</td>\n",
       "      <td>6</td>\n",
       "    </tr>\n",
       "    <tr>\n",
       "      <th>210</th>\n",
       "      <td>14.92</td>\n",
       "      <td>0.00</td>\n",
       "      <td>1.99</td>\n",
       "      <td>73.06</td>\n",
       "      <td>0.00</td>\n",
       "      <td>8.40</td>\n",
       "      <td>0.0</td>\n",
       "      <td>0.0</td>\n",
       "      <td>6</td>\n",
       "    </tr>\n",
       "    <tr>\n",
       "      <th>211</th>\n",
       "      <td>14.36</td>\n",
       "      <td>0.00</td>\n",
       "      <td>2.00</td>\n",
       "      <td>73.42</td>\n",
       "      <td>0.00</td>\n",
       "      <td>8.44</td>\n",
       "      <td>0.0</td>\n",
       "      <td>0.0</td>\n",
       "      <td>6</td>\n",
       "    </tr>\n",
       "    <tr>\n",
       "      <th>212</th>\n",
       "      <td>14.38</td>\n",
       "      <td>0.00</td>\n",
       "      <td>1.94</td>\n",
       "      <td>73.61</td>\n",
       "      <td>0.00</td>\n",
       "      <td>8.48</td>\n",
       "      <td>0.0</td>\n",
       "      <td>0.0</td>\n",
       "      <td>6</td>\n",
       "    </tr>\n",
       "    <tr>\n",
       "      <th>213</th>\n",
       "      <td>14.23</td>\n",
       "      <td>0.00</td>\n",
       "      <td>2.00</td>\n",
       "      <td>73.36</td>\n",
       "      <td>0.00</td>\n",
       "      <td>8.62</td>\n",
       "      <td>0.0</td>\n",
       "      <td>0.0</td>\n",
       "      <td>6</td>\n",
       "    </tr>\n",
       "  </tbody>\n",
       "</table>\n",
       "<p>214 rows × 9 columns</p>\n",
       "</div>"
      ],
      "text/plain": [
       "        Na    Mg    Al     Si     K    Ca   Ba   Fe  Type\n",
       "0    13.64  4.49  1.10  71.78  0.06  8.75  0.0  0.0     1\n",
       "1    13.89  3.60  1.36  72.73  0.48  7.83  0.0  0.0     1\n",
       "2    13.53  3.55  1.54  72.99  0.39  7.78  0.0  0.0     1\n",
       "3    13.21  3.69  1.29  72.61  0.57  8.22  0.0  0.0     1\n",
       "4    13.27  3.62  1.24  73.08  0.55  8.07  0.0  0.0     1\n",
       "..     ...   ...   ...    ...   ...   ...  ...  ...   ...\n",
       "209  14.14  0.00  2.00  72.61  0.08  9.18  0.0  0.0     6\n",
       "210  14.92  0.00  1.99  73.06  0.00  8.40  0.0  0.0     6\n",
       "211  14.36  0.00  2.00  73.42  0.00  8.44  0.0  0.0     6\n",
       "212  14.38  0.00  1.94  73.61  0.00  8.48  0.0  0.0     6\n",
       "213  14.23  0.00  2.00  73.36  0.00  8.62  0.0  0.0     6\n",
       "\n",
       "[214 rows x 9 columns]"
      ]
     },
     "execution_count": 213,
     "metadata": {},
     "output_type": "execute_result"
    }
   ],
   "source": [
    "df"
   ]
  },
  {
   "cell_type": "code",
   "execution_count": 245,
   "id": "e5837bf3-2ec1-4b30-b1ce-25bed9e72e16",
   "metadata": {},
   "outputs": [
    {
     "data": {
      "text/plain": [
       "Na      float64\n",
       "Mg      float64\n",
       "Al      float64\n",
       "Si      float64\n",
       "K       float64\n",
       "Ca      float64\n",
       "Ba      float64\n",
       "Fe      float64\n",
       "Type      int64\n",
       "dtype: object"
      ]
     },
     "execution_count": 245,
     "metadata": {},
     "output_type": "execute_result"
    }
   ],
   "source": [
    "df.dtypes"
   ]
  },
  {
   "cell_type": "code",
   "execution_count": 247,
   "id": "cef9ae21-05ac-494a-bc32-fbbcfc25d2fb",
   "metadata": {},
   "outputs": [],
   "source": [
    "from pandas import read_csv\n",
    "from sklearn.model_selection import KFold\n",
    "from sklearn.model_selection import cross_val_score\n",
    "from sklearn.ensemble import BaggingClassifier\n",
    "from sklearn.tree import DecisionTreeClassifier"
   ]
  },
  {
   "cell_type": "code",
   "execution_count": 249,
   "id": "611803ee-4723-4892-9da2-e33c1393250a",
   "metadata": {},
   "outputs": [],
   "source": [
    "filename=\"C:/Users/gheva/OneDrive/Desktop/glass 1.csv\"\n",
    "names=['Na','Mg','Al','Si','K','Ca','Ba','Fe','Type']\n",
    "dataframe = read_csv(filename, names=names)\n",
    "array = dataframe.values\n",
    "X = array[:,0:8]\n",
    "Y = array[:,8]\n",
    "seed=7\n",
    "\n"
   ]
  },
  {
   "cell_type": "code",
   "execution_count": null,
   "id": "0a25a403-9d1c-45ea-acab-4bdbc789ab16",
   "metadata": {},
   "outputs": [],
   "source": [
    "kfold = KFold(n_splits=10)\n",
    "cart = DecisionTreeClassifier()\n",
    "num_trees = 100\n",
    "seed=7\n",
    "\n",
    "model = BaggingClassifier(estimator=cart, n_estimators=num_trees, random_state=seed) \n",
    "results = cross_val_score(model, X, Y, cv=kfold)"
   ]
  },
  {
   "cell_type": "code",
   "execution_count": null,
   "id": "60c362bf-0a1a-4261-903d-4a473715e7e8",
   "metadata": {},
   "outputs": [],
   "source": [
    "results"
   ]
  },
  {
   "cell_type": "code",
   "execution_count": null,
   "id": "552f5b59-f121-42c3-99a1-2c853dfcdeb1",
   "metadata": {},
   "outputs": [],
   "source": [
    "print(results.mean())"
   ]
  },
  {
   "cell_type": "code",
   "execution_count": null,
   "id": "25497e68-c566-431f-b365-d4b583c2726d",
   "metadata": {},
   "outputs": [],
   "source": [
    "from pandas import read_csv\n",
    "from sklearn.model_selection import KFold\n",
    "from sklearn.model_selection import cross_val_score\n",
    "from sklearn.ensemble import RandomForestClassifier\n",
    "\n",
    "array = dataframe.values\n",
    "X = array[:,0:9]\n",
    "Y = array[:,9]\n",
    "seed=7\n",
    "\n",
    "num_trees = 100\n",
    "max_features = 3 #Total features m=8, K=3 i.e. randomly select 3 features\n",
    "kfold = KFold(n_splits=10)\n",
    "\n",
    "model = RandomForestClassifier(n_estimators=num_trees, max_features=max_features) # try random_state=2, n_estimators=10 by default, default=gini\n",
    "results = cross_val_score(model, X, Y, cv=kfold)"
   ]
  },
  {
   "cell_type": "code",
   "execution_count": null,
   "id": "27b45394-efea-4ccd-bf1c-23732db7105e",
   "metadata": {},
   "outputs": [],
   "source": [
    "results"
   ]
  },
  {
   "cell_type": "code",
   "execution_count": null,
   "id": "509cf7de-df9d-4aff-a201-fa11404de0a6",
   "metadata": {},
   "outputs": [],
   "source": [
    "print(results.mean())"
   ]
  },
  {
   "cell_type": "code",
   "execution_count": null,
   "id": "5dca121d-f9bb-408f-934b-41402ccaf1af",
   "metadata": {},
   "outputs": [],
   "source": [
    "# AdaBoost Classification\n",
    "from pandas import read_csv\n",
    "from sklearn.model_selection import KFold\n",
    "from sklearn.model_selection import cross_val_score\n",
    "from sklearn.ensemble import AdaBoostClassifier\n",
    "filename=\"C:/Users/gheva/OneDrive/Desktop/glass 1.csv\"\n",
    "names=['RI','Na','Mg','Al','Si','K','Ca','Ba','Fe','Type']\n",
    "dataframe = read_csv(filename, names=names)\n",
    "array = dataframe.values\n",
    "X = array[:,0:9]\n",
    "Y = array[:,9]\n",
    "seed=7\n",
    "kfold = KFold(n_splits=10, random_state=seed,shuffle=True)\n",
    "model = AdaBoostClassifier(n_estimators=num_trees, random_state=seed) #n_estimators=50 by default\n",
    "results = cross_val_score(model, X, Y, cv=kfold)"
   ]
  },
  {
   "cell_type": "code",
   "execution_count": null,
   "id": "3fb98be0-47de-48b1-8666-ecb99fe17e49",
   "metadata": {},
   "outputs": [],
   "source": [
    "results"
   ]
  },
  {
   "cell_type": "code",
   "execution_count": null,
   "id": "4c6c725d-3f21-4543-a752-fc3c51ea6665",
   "metadata": {},
   "outputs": [],
   "source": [
    "print(results.mean())"
   ]
  },
  {
   "cell_type": "code",
   "execution_count": null,
   "id": "fe6c5197-fa6f-401d-a38e-c598c014bd22",
   "metadata": {},
   "outputs": [],
   "source": [
    "# Stacking Ensemble for Classification\n",
    "from pandas import read_csv\n",
    "from sklearn.model_selection import KFold\n",
    "from sklearn.model_selection import cross_val_score\n",
    "from sklearn.linear_model import LogisticRegression\n",
    "from sklearn.tree import DecisionTreeClassifier\n",
    "from sklearn.svm import SVC # Support Vector Classifier\n",
    "from sklearn.ensemble import VotingClassifier\n",
    "\n",
    "filename = '/content/pima-indians-diabetes.data.csv'\n",
    "filename=\"C:/Users/gheva/OneDrive/Desktop/glass 1.csv\"\n",
    "names=['RI','Na','Mg','Al','Si','K','Ca','Ba','Fe','Type']\n",
    "dataframe = read_csv(filename, names=names)\n",
    "array = dataframe.values\n",
    "X = array[:,0:9]\n",
    "Y = array[:,9]\n",
    "kfold = KFold(n_splits=10)\n",
    "\n",
    "# create the sub models\n",
    "estimators = [] # create empty list for different algorithms\n",
    "\n",
    "model1 = LogisticRegression(max_iter=500)\n",
    "estimators.append(('logistic', model1))\n",
    "\n",
    "model2 = DecisionTreeClassifier()\n",
    "estimators.append(('cart', model2))\n",
    "\n",
    "model3 = SVC()\n",
    "estimators.append(('svc', model3))\n",
    "\n",
    "# create the ensemble model\n",
    "ensemble = VotingClassifier(estimators)\n",
    "results = cross_val_score(ensemble, X, Y, cv=kfold)"
   ]
  },
  {
   "cell_type": "code",
   "execution_count": 93,
   "id": "b4ac58d2-8203-4f66-a2fe-eb38d040ae88",
   "metadata": {},
   "outputs": [
    {
     "data": {
      "text/plain": [
       "[('logistic', LogisticRegression(max_iter=500)),\n",
       " ('cart', DecisionTreeClassifier()),\n",
       " ('svc', SVC())]"
      ]
     },
     "execution_count": 93,
     "metadata": {},
     "output_type": "execute_result"
    }
   ],
   "source": [
    "estimators"
   ]
  },
  {
   "cell_type": "code",
   "execution_count": null,
   "id": "3ee88795-e414-4acf-aba9-fb02dab1d0df",
   "metadata": {},
   "outputs": [],
   "source": [
    "results"
   ]
  },
  {
   "cell_type": "code",
   "execution_count": null,
   "id": "e28f239a-c35f-492b-834e-401e1fb64c9e",
   "metadata": {},
   "outputs": [],
   "source": [
    "print(results.mean())"
   ]
  },
  {
   "cell_type": "markdown",
   "id": "9a42c4da-f931-4760-9600-5f624125ad3c",
   "metadata": {},
   "source": [
    "## Interview Questions##"
   ]
  },
  {
   "cell_type": "code",
   "execution_count": null,
   "id": "0319d781-fb48-4dcd-b66a-d6aadc486b76",
   "metadata": {},
   "outputs": [],
   "source": [
    "1. Explain Bagging and Boosting methods. How is it different from each other."
   ]
  },
  {
   "cell_type": "code",
   "execution_count": null,
   "id": "b0cf9e51-ad39-4875-83ff-a37c08005f40",
   "metadata": {},
   "outputs": [],
   "source": [
    "Ans: Bagging(Bootstrap Aggregating)\n",
    "          It trains multiple models on different subsets of the data created through bootstrapping .models work independently,and their results\n",
    "are averaged or majority vated to improve stability and accuracy.Example: Random forest\n",
    "\n",
    "Boosting:\n",
    "     It trains models sequentially,where each new model corrects the errors of the previous one. Models are weighted,and misclassified instances get higher\n",
    "importance in subsequent iterations. Example: AdaBoost,Gradient Boosting,XGBoost\n",
    "\n",
    "Key Difference:\n",
    "1.Parallel vs Sequential: Bagging trains models in parallel,while boosting trains them sequentially.\n",
    "2.Error reduction: Bagging reduces variance,while boosting reduces bias."
   ]
  },
  {
   "cell_type": "code",
   "execution_count": null,
   "id": "42855aef-92c2-4a4d-bc84-5a98c5d39b85",
   "metadata": {},
   "outputs": [],
   "source": [
    "2. Explain how to handle imbalance in the data."
   ]
  },
  {
   "cell_type": "code",
   "execution_count": null,
   "id": "cafcdc2e-4514-43da-8592-38cc2519ea0e",
   "metadata": {},
   "outputs": [],
   "source": [
    "Ans:     To handle imbalanced data:\n",
    "1.Resampling: Oversampling: To increase minority class samples.   Undersampling: To reduce majority class samples.\n",
    "2.Algorithm Adjustments: Use class weights , Apply cost-sensitive learning to penalize misclassification of minority class\n",
    "3.ensemble methods: Use Boosting to focus on difficult cases.\n",
    "4.Better metrics: Prefer F1-Score,ROC-AUC,PR-AUC over accuracy.\n",
    "Synthetic data: Use SMOTE,ADASYN,or GANs to generate new minority samples."
   ]
  }
 ],
 "metadata": {
  "kernelspec": {
   "display_name": "Python 3 (ipykernel)",
   "language": "python",
   "name": "python3"
  },
  "language_info": {
   "codemirror_mode": {
    "name": "ipython",
    "version": 3
   },
   "file_extension": ".py",
   "mimetype": "text/x-python",
   "name": "python",
   "nbconvert_exporter": "python",
   "pygments_lexer": "ipython3",
   "version": "3.12.4"
  }
 },
 "nbformat": 4,
 "nbformat_minor": 5
}
