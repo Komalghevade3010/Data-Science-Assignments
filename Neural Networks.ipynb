{
 "cells": [
  {
   "cell_type": "code",
   "execution_count": null,
   "id": "be4b1092-aa8e-46d6-a7cb-dc5b561d39b3",
   "metadata": {},
   "outputs": [],
   "source": [
    "!pip install tensorflow"
   ]
  },
  {
   "cell_type": "code",
   "execution_count": null,
   "id": "deadfbd4-475b-44dd-baf7-6e8baefe7ec2",
   "metadata": {},
   "outputs": [],
   "source": [
    "import pandas as pd\n",
    "import numpy as np\n",
    "from sklearn.preprocessing import StandardScaler\n",
    "from sklearn.model_selection import train_test_split\n",
    "import tensorflow as tf\n",
    "from tensorflow.keras.layers import Dense\n",
    "# Dense: to add layers(hidden, output)\n",
    "from tensorflow.keras import Sequential\n",
    "# Sequential: to add layers in sequence, to initialize ann model i.e. initially random weight will be assigned\n",
    "from sklearn.metrics import classification_report\n",
    "import warnings\n",
    "warnings.filterwarnings('ignore')"
   ]
  },
  {
   "cell_type": "code",
   "execution_count": null,
   "id": "32d64053-25b9-431a-b49b-eb25724cbc51",
   "metadata": {},
   "outputs": [],
   "source": [
    "df = pd.read_csv(\"C:/Users/gheva/OneDrive/Desktop/Alphabets_data.csv\")\n",
    "df"
   ]
  },
  {
   "cell_type": "code",
   "execution_count": null,
   "id": "4876ed35-5f8d-4b30-aef8-086d69402d3c",
   "metadata": {},
   "outputs": [],
   "source": [
    "df.isna().sum()"
   ]
  },
  {
   "cell_type": "code",
   "execution_count": null,
   "id": "3ca2a7ac-1792-4c48-ba78-80db9f1453a6",
   "metadata": {},
   "outputs": [],
   "source": [
    "sc = StandardScaler() # don't perform standardization on target column\n",
    "x = df.drop(columns=['letter'])# exclude Exited column\n",
    "y = df['letter']"
   ]
  },
  {
   "cell_type": "code",
   "execution_count": null,
   "id": "3ae9069e-5cf0-4cd9-8dda-319b66e763ae",
   "metadata": {},
   "outputs": [],
   "source": [
    "x = sc.fit_transform(x)\n",
    "x"
   ]
  },
  {
   "cell_type": "code",
   "execution_count": null,
   "id": "5b0bd9f1-3d98-4282-9dbe-2fc542a25d2c",
   "metadata": {},
   "outputs": [],
   "source": [
    "xtrain,xtest,ytrain,ytest = train_test_split(x,y,test_size=0.20, random_state=1)"
   ]
  },
  {
   "cell_type": "code",
   "execution_count": null,
   "id": "ad8461c2-deeb-49fc-aeed-4bb0c510b209",
   "metadata": {},
   "outputs": [],
   "source": [
    "xtrain"
   ]
  },
  {
   "cell_type": "code",
   "execution_count": null,
   "id": "1cd93089-964a-4bdc-b60a-02b487695f2a",
   "metadata": {},
   "outputs": [],
   "source": [
    "# create instance of Sequential class\n",
    "model = Sequential()\n",
    "\n",
    "#Add hidden layer, randomly 10 neurons are added\n",
    "model.add(Dense(units=10,activation='relu'))\n",
    "\n",
    "                #Add output layer\n",
    "model.add(Dense(units=1, activation='sigmoid'))\n",
    "\n",
    "                \n",
    "#Establish the connection between the layers\n",
    "model.compile(optimizer = 'adadelta',loss='binary_crossentropy',metrics=['accuracy'])\n",
    "\n",
    "                #Fit the data, perform forward and back propagation\n",
    "model.fit(xtrain,ytrain, epochs=100)"
   ]
  },
  {
   "cell_type": "code",
   "execution_count": null,
   "id": "23511d01-accf-467e-a461-188a790458ce",
   "metadata": {},
   "outputs": [],
   "source": [
    "xtest"
   ]
  },
  {
   "cell_type": "code",
   "execution_count": null,
   "id": "9caac70b-7ded-4254-929c-5bb024470362",
   "metadata": {},
   "outputs": [],
   "source": [
    "ypred = model.predict(xtest)\n",
    "ypred"
   ]
  },
  {
   "cell_type": "code",
   "execution_count": null,
   "id": "7543158c-9a15-4e5b-811c-9cb67f298133",
   "metadata": {},
   "outputs": [],
   "source": [
    "ytest"
   ]
  },
  {
   "cell_type": "code",
   "execution_count": null,
   "id": "d2d5c785-ae88-4efa-9b7f-cf1751940bee",
   "metadata": {},
   "outputs": [],
   "source": [
    "print(classification_report(ytest,ypred))"
   ]
  },
  {
   "cell_type": "code",
   "execution_count": null,
   "id": "75d9cd07-48a2-4931-a46b-eae1180cac27",
   "metadata": {},
   "outputs": [],
   "source": [
    "ypred > 0.5"
   ]
  },
  {
   "cell_type": "code",
   "execution_count": null,
   "id": "605a173e-6671-4396-88e6-6c7ed4ffac48",
   "metadata": {},
   "outputs": [],
   "source": [
    "ypred = ypred > 0.5\n",
    "ypred"
   ]
  },
  {
   "cell_type": "code",
   "execution_count": null,
   "id": "e57439ae-8ff9-4b92-9c40-d8e517b1369e",
   "metadata": {},
   "outputs": [],
   "source": [
    "ytest"
   ]
  },
  {
   "cell_type": "code",
   "execution_count": null,
   "id": "c4959772-a5aa-4271-aad1-5ff78d5738da",
   "metadata": {},
   "outputs": [],
   "source": [
    "\n",
    "print(classification_report(ytest,ypred))"
   ]
  },
  {
   "cell_type": "markdown",
   "id": "57b2ad5a-6390-4c7b-9533-0952bc116195",
   "metadata": {},
   "source": [
    "##Hyperparameter Tuning##"
   ]
  },
  {
   "cell_type": "code",
   "execution_count": null,
   "id": "3429b493-9d41-421a-b8e4-4d67da787b98",
   "metadata": {},
   "outputs": [],
   "source": [
    "!pip install -U keras-tuner"
   ]
  },
  {
   "cell_type": "markdown",
   "id": "3b07438c-990c-4228-9eb2-f9ca64bf6aee",
   "metadata": {},
   "source": [
    "##Tuning the ANN Model##"
   ]
  },
  {
   "cell_type": "code",
   "execution_count": null,
   "id": "979eed6b-a9ca-43e5-8aba-7674a97256c3",
   "metadata": {},
   "outputs": [],
   "source": [
    "import keras_tuner as kt"
   ]
  },
  {
   "cell_type": "code",
   "execution_count": null,
   "id": "94c381b1-9548-401d-85ba-85f5ef2a35ab",
   "metadata": {},
   "outputs": [],
   "source": [
    "def optimizer_selection(hp):\n",
    "    #create instance of sequential class\n",
    "    model = Sequential()\n",
    "    #Add hidden layer\n",
    "    model.add(Dense(units=10, activation='relu'))\n",
    "    #Add output layer\n",
    "    model.add(Dense(units=1, activation='sigmoid'))\n",
    "    #Optimizer selection\n",
    "    optim = hp.Choice('optimizer', values = ['sgd','adam','rmsprop']) #value of optimizer is categorical so use choice()function else use hp.Int()\n",
    "    model.compile(optimizer=optim, loss = 'binary_crossentropy', metrics = ['accuracy'])\n",
    "    return model"
   ]
  },
  {
   "cell_type": "code",
   "execution_count": null,
   "id": "e3798ca6-6c81-4008-b0c8-b5cef1fdbe15",
   "metadata": {},
   "outputs": [],
   "source": [
    "# similar to GridSearchCV() we will use here RandomSearch()\n",
    "tuner = kt.RandomSearch(\n",
    "    optimizer_selection,# model name-here Sequential() class is our model\n",
    "    objective='val_accuracy', # increase accuracy of test data i.e. validation test accuracy or minimize 'val_loss'\n",
    "    max_trials=3 # for each optimizer take 3 trials, can select 3 to 10\n",
    ")"
   ]
  },
  {
   "cell_type": "code",
   "execution_count": null,
   "id": "585011a6-6f07-4ba0-ab76-4336965e1b39",
   "metadata": {},
   "outputs": [],
   "source": [
    "tuner.search(xtrain,ytrain, epochs = 3, validation_data = (xtest,ytest))"
   ]
  },
  {
   "cell_type": "code",
   "execution_count": null,
   "id": "24c86d91-ede9-494f-b85e-bbc83d3d9140",
   "metadata": {},
   "outputs": [],
   "source": [
    "\n",
    "tuner.get_best_hyperparameters()[0].values"
   ]
  },
  {
   "cell_type": "code",
   "execution_count": null,
   "id": "45783917-e08f-489b-9a84-5d204c7df451",
   "metadata": {},
   "outputs": [],
   "source": [
    "model = tuner.get_best_models(num_models=1)[0] # get best model: rmsprop\n",
    "model.fit(xtrain,ytrain, epochs = 100, validation_data = (xtest,ytest))"
   ]
  },
  {
   "cell_type": "code",
   "execution_count": null,
   "id": "88adf43b-9e7a-472a-9ca8-8bbc0e3c428b",
   "metadata": {},
   "outputs": [],
   "source": [
    "model.evaluate(xtrain,ytrain)"
   ]
  },
  {
   "cell_type": "code",
   "execution_count": null,
   "id": "c95229e4-c277-4067-8957-125310fc66d9",
   "metadata": {},
   "outputs": [],
   "source": []
  },
  {
   "cell_type": "code",
   "execution_count": null,
   "id": "35c13437-4094-4966-9d23-e4d8d77f46d5",
   "metadata": {},
   "outputs": [],
   "source": [
    "!pip install -U keras-tuner \n",
    "!pip install --upgrade tensorflow jax jaxlib "
   ]
  },
  {
   "cell_type": "code",
   "execution_count": null,
   "id": "cbaae982-d4c1-4bc6-8f4d-8dbce2c859d8",
   "metadata": {},
   "outputs": [],
   "source": [
    "import pandas as pd\n",
    "import numpy as np\n",
    "import matplotlib.pyplot as plt\n",
    "from tensorflow.keras import Sequential\n",
    "import tensorflow as tf\n",
    "from tensorflow.keras.layers import Dense\n",
    "import keras_tuner as kf\n",
    "from sklearn.preprocessing import StandardScaler\n",
    "from sklearn.metrics import classification_report"
   ]
  },
  {
   "cell_type": "code",
   "execution_count": null,
   "id": "a9b29c1c-3286-4bdb-8f9e-236500087d1e",
   "metadata": {},
   "outputs": [],
   "source": [
    "df = pd.read_csv(\"C:/Users/gheva/OneDrive/Desktop/Alphabets_data.csv\")\n",
    "df"
   ]
  },
  {
   "cell_type": "code",
   "execution_count": null,
   "id": "15d6a4a7-bc73-4b51-9d0a-9ea5208e142e",
   "metadata": {},
   "outputs": [],
   "source": [
    "df.isna().sum()"
   ]
  },
  {
   "cell_type": "code",
   "execution_count": null,
   "id": "a36805f2-38f6-4068-be19-df713df213ca",
   "metadata": {},
   "outputs": [],
   "source": [
    "sc = StandardScaler() # don't perform standardization on target column\n",
    "x = df.drop(columns=['letter'])# exclude Exited column\n",
    "y = df['letter']"
   ]
  },
  {
   "cell_type": "code",
   "execution_count": null,
   "id": "d1ce406b-a1f2-4f02-ba04-df8bf779de56",
   "metadata": {},
   "outputs": [],
   "source": [
    "sc = StandardScaler()\n",
    "\n",
    "x = sc.fit_transform(x)"
   ]
  },
  {
   "cell_type": "code",
   "execution_count": null,
   "id": "79d4c36b-ad2b-4a83-ac3a-88d7b7709d7b",
   "metadata": {},
   "outputs": [],
   "source": [
    "from sklearn.model_selection import train_test_split"
   ]
  },
  {
   "cell_type": "code",
   "execution_count": null,
   "id": "db5ed840-75b2-4aff-81a1-a2507b06aaa0",
   "metadata": {},
   "outputs": [],
   "source": [
    "xtrain,xtest,ytrain,ytest = train_test_split(x,y,test_size = 0.20, random_state=1)"
   ]
  },
  {
   "cell_type": "code",
   "execution_count": null,
   "id": "b6a62977-3ebd-42b3-aeb0-c4882b4c05ca",
   "metadata": {},
   "outputs": [],
   "source": [
    "# Before hyperparameter tuning: initially use random parameters only for comparision\n",
    "ann = Sequential()# random weights are initialized so every time you will get different accuracy and loss\n",
    "\n",
    "ann.add(Dense(units = 10, activation = 'relu'))# hidden layer\n",
    "ann.add(Dense(units = 1, activation = 'sigmoid'))# output layer\n",
    "\n",
    "ann.compile(optimizer = 'adadelta', loss = 'binary_crossentropy', metrics =['accuracy'])\n",
    "\n",
    "ann.fit(xtrain,ytrain,epochs = 100)"
   ]
  },
  {
   "cell_type": "code",
   "execution_count": null,
   "id": "55a5a2b4-80b2-4318-ac6a-3246383c4d9d",
   "metadata": {},
   "outputs": [],
   "source": [
    "ypred = ann.predict(xtest)\n",
    "ypred = ypred > 0.5\n",
    "ypred"
   ]
  },
  {
   "cell_type": "code",
   "execution_count": null,
   "id": "d62736b2-1d67-4009-b46e-db5a7c542a75",
   "metadata": {},
   "outputs": [],
   "source": [
    "print(classification_report(ytest, ypred))"
   ]
  },
  {
   "cell_type": "code",
   "execution_count": null,
   "id": "1cd9601b-065d-400f-ae94-ac9fe078969a",
   "metadata": {},
   "outputs": [],
   "source": [
    "ann.evaluate(xtrain,ytrain)"
   ]
  },
  {
   "cell_type": "markdown",
   "id": "f38bbb13-707b-447f-b557-83832e51eaad",
   "metadata": {},
   "source": [
    "##Hyperparameter tuning##"
   ]
  },
  {
   "cell_type": "code",
   "execution_count": null,
   "id": "f4498fbc-db4c-41af-8df2-06e5cca48298",
   "metadata": {},
   "outputs": [],
   "source": [
    "list(range(8,128,8))"
   ]
  },
  {
   "cell_type": "code",
   "execution_count": null,
   "id": "199543b3-d0f0-4acc-9d74-b61cc47dda30",
   "metadata": {},
   "outputs": [],
   "source": [
    "def hyper(hp):\n",
    "    model = Sequential()\n",
    "\n",
    "    # Add input layer\n",
    "    model.add(Dense(hp.Int('units0', min_value=8, max_value=128, step=8),\n",
    "                    activation=hp.Choice('activation0', values=['relu', 'tanh', 'sigmoid']),\n",
    "                    input_dim=13))\n",
    "\n",
    "    # Add additional hidden layers\n",
    "    for i in range(1, hp.Int('num_layers', min_value=1, max_value=10)):\n",
    "        model.add(Dense(hp.Int('units' + str(i), min_value=8, max_value=128, step=8),\n",
    "                        activation=hp.Choice('activation' + str(i), values=['relu', 'tanh', 'sigmoid'])))\n",
    "\n",
    "    # Add output layer\n",
    "    model.add(Dense(units=1, activation='sigmoid'))\n",
    "\n",
    "    # Compile the model\n",
    "    model.compile(optimizer=hp.Choice('optimizer', values=['adam', 'rmsprop', 'sgd']),\n",
    "                  loss='binary_crossentropy',\n",
    "                  metrics=['accuracy'])\n",
    "\n",
    "    return model"
   ]
  },
  {
   "cell_type": "code",
   "execution_count": null,
   "id": "9ce49292-8273-4c0e-aac7-897f79574c41",
   "metadata": {},
   "outputs": [],
   "source": [
    "tuner = kf.RandomSearch(hyper,\n",
    "                        objective = 'val_accuracy',\n",
    "                        max_trials = 3)"
   ]
  },
  {
   "cell_type": "code",
   "execution_count": null,
   "id": "1c469151-8106-458d-8673-96a58ec920e8",
   "metadata": {},
   "outputs": [],
   "source": [
    "tuner.search(xtrain,ytrain,epochs = 3, validation_data = (xtest,ytest))"
   ]
  },
  {
   "cell_type": "code",
   "execution_count": null,
   "id": "e2d4824b-24a1-42a4-b191-7ea130094fb8",
   "metadata": {},
   "outputs": [],
   "source": [
    "tuner.get_best_hyperparameters()[0].values"
   ]
  },
  {
   "cell_type": "code",
   "execution_count": null,
   "id": "26216303-aa07-49ec-a7da-cd42c0d39420",
   "metadata": {},
   "outputs": [],
   "source": [
    "tuned_model = tuner.get_best_models(num_models=1)[0]"
   ]
  },
  {
   "cell_type": "code",
   "execution_count": null,
   "id": "d3cddc9c-2ebc-448a-9071-822565adebd7",
   "metadata": {},
   "outputs": [],
   "source": [
    "tuned_model.fit(xtrain,ytrain,epochs=50, validation_data=(xtest,ytest))"
   ]
  },
  {
   "cell_type": "code",
   "execution_count": null,
   "id": "f9bac632-6a1c-4b9a-8a2a-8800ab60b783",
   "metadata": {},
   "outputs": [],
   "source": [
    "tuned_model.evaluate(xtrain,ytrain)"
   ]
  },
  {
   "cell_type": "code",
   "execution_count": null,
   "id": "5ff714c5-a130-4cf4-8c1d-2044ba476d5f",
   "metadata": {},
   "outputs": [],
   "source": [
    "tuned_model.evaluate(xtest,ytest)"
   ]
  }
 ],
 "metadata": {
  "kernelspec": {
   "display_name": "Python 3 (ipykernel)",
   "language": "python",
   "name": "python3"
  },
  "language_info": {
   "codemirror_mode": {
    "name": "ipython",
    "version": 3
   },
   "file_extension": ".py",
   "mimetype": "text/x-python",
   "name": "python",
   "nbconvert_exporter": "python",
   "pygments_lexer": "ipython3",
   "version": "3.12.4"
  }
 },
 "nbformat": 4,
 "nbformat_minor": 5
}
