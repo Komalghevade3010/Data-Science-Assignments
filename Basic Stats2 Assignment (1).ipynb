{
 "cells": [
  {
   "cell_type": "code",
   "execution_count": 25,
   "id": "e77a40d2-3b2f-49b1-a045-e0165f6d2c76",
   "metadata": {},
   "outputs": [],
   "source": [
    "from scipy import stats\n",
    "import pandas as pd\n",
    "import numpy as np"
   ]
  },
  {
   "cell_type": "code",
   "execution_count": 27,
   "id": "0f221abf-be66-41fc-aede-2cb214aa472b",
   "metadata": {},
   "outputs": [
    {
     "name": "stdout",
     "output_type": "stream",
     "text": [
      " Volume in drive C is Windows-SSD\n",
      " Volume Serial Number is 6271-5CB1\n",
      "\n",
      " Directory of C:\\Users\\gheva\\Desktop\\KOMAL Python\n",
      "\n",
      "13-11-2024  15:45    <DIR>          .\n",
      "20-10-2024  19:26    <DIR>          ..\n",
      "10-11-2024  19:50    <DIR>          .ipynb_checkpoints\n",
      "09-11-2024  21:14           103,118 Basic Stats 1 Assignment.ipynb\n",
      "13-11-2024  15:45             3,978 Basic Stats2 Assignment.ipynb\n",
      "               2 File(s)        107,096 bytes\n",
      "               3 Dir(s)  49,292,726,272 bytes free\n"
     ]
    }
   ],
   "source": [
    "ls"
   ]
  },
  {
   "cell_type": "code",
   "execution_count": 29,
   "id": "c01e419d-851a-4577-b5b1-d6c5982ac258",
   "metadata": {},
   "outputs": [
    {
     "data": {
      "text/plain": [
       "'C:\\\\Users\\\\gheva\\\\Desktop\\\\KOMAL Python'"
      ]
     },
     "execution_count": 29,
     "metadata": {},
     "output_type": "execute_result"
    }
   ],
   "source": [
    "import os\n",
    "os.getcwd()"
   ]
  },
  {
   "cell_type": "code",
   "execution_count": 33,
   "id": "eddcc9cd-e663-49fe-bd7e-7deda0efc8b1",
   "metadata": {},
   "outputs": [
    {
     "data": {
      "text/html": [
       "<div>\n",
       "<style scoped>\n",
       "    .dataframe tbody tr th:only-of-type {\n",
       "        vertical-align: middle;\n",
       "    }\n",
       "\n",
       "    .dataframe tbody tr th {\n",
       "        vertical-align: top;\n",
       "    }\n",
       "\n",
       "    .dataframe thead th {\n",
       "        text-align: right;\n",
       "    }\n",
       "</style>\n",
       "<table border=\"1\" class=\"dataframe\">\n",
       "  <thead>\n",
       "    <tr style=\"text-align: right;\">\n",
       "      <th></th>\n",
       "      <th>Sr.No.</th>\n",
       "      <th>Durability</th>\n",
       "    </tr>\n",
       "  </thead>\n",
       "  <tbody>\n",
       "    <tr>\n",
       "      <th>0</th>\n",
       "      <td>1.0</td>\n",
       "      <td>1.13</td>\n",
       "    </tr>\n",
       "    <tr>\n",
       "      <th>1</th>\n",
       "      <td>2.0</td>\n",
       "      <td>1.55</td>\n",
       "    </tr>\n",
       "    <tr>\n",
       "      <th>2</th>\n",
       "      <td>3.0</td>\n",
       "      <td>1.43</td>\n",
       "    </tr>\n",
       "    <tr>\n",
       "      <th>3</th>\n",
       "      <td>4.0</td>\n",
       "      <td>0.92</td>\n",
       "    </tr>\n",
       "    <tr>\n",
       "      <th>4</th>\n",
       "      <td>5.0</td>\n",
       "      <td>1.25</td>\n",
       "    </tr>\n",
       "    <tr>\n",
       "      <th>5</th>\n",
       "      <td>6.0</td>\n",
       "      <td>1.36</td>\n",
       "    </tr>\n",
       "    <tr>\n",
       "      <th>6</th>\n",
       "      <td>7.0</td>\n",
       "      <td>1.32</td>\n",
       "    </tr>\n",
       "    <tr>\n",
       "      <th>7</th>\n",
       "      <td>8.0</td>\n",
       "      <td>0.85</td>\n",
       "    </tr>\n",
       "    <tr>\n",
       "      <th>8</th>\n",
       "      <td>9.0</td>\n",
       "      <td>1.07</td>\n",
       "    </tr>\n",
       "    <tr>\n",
       "      <th>9</th>\n",
       "      <td>10.0</td>\n",
       "      <td>1.48</td>\n",
       "    </tr>\n",
       "    <tr>\n",
       "      <th>10</th>\n",
       "      <td>11.0</td>\n",
       "      <td>1.20</td>\n",
       "    </tr>\n",
       "    <tr>\n",
       "      <th>11</th>\n",
       "      <td>12.0</td>\n",
       "      <td>1.33</td>\n",
       "    </tr>\n",
       "    <tr>\n",
       "      <th>12</th>\n",
       "      <td>13.0</td>\n",
       "      <td>1.18</td>\n",
       "    </tr>\n",
       "    <tr>\n",
       "      <th>13</th>\n",
       "      <td>14.0</td>\n",
       "      <td>1.22</td>\n",
       "    </tr>\n",
       "    <tr>\n",
       "      <th>14</th>\n",
       "      <td>15.0</td>\n",
       "      <td>1.29</td>\n",
       "    </tr>\n",
       "    <tr>\n",
       "      <th>15</th>\n",
       "      <td>NaN</td>\n",
       "      <td>NaN</td>\n",
       "    </tr>\n",
       "  </tbody>\n",
       "</table>\n",
       "</div>"
      ],
      "text/plain": [
       "    Sr.No.  Durability\n",
       "0      1.0        1.13\n",
       "1      2.0        1.55\n",
       "2      3.0        1.43\n",
       "3      4.0        0.92\n",
       "4      5.0        1.25\n",
       "5      6.0        1.36\n",
       "6      7.0        1.32\n",
       "7      8.0        0.85\n",
       "8      9.0        1.07\n",
       "9     10.0        1.48\n",
       "10    11.0        1.20\n",
       "11    12.0        1.33\n",
       "12    13.0        1.18\n",
       "13    14.0        1.22\n",
       "14    15.0        1.29\n",
       "15     NaN         NaN"
      ]
     },
     "execution_count": 33,
     "metadata": {},
     "output_type": "execute_result"
    }
   ],
   "source": [
    "durability_df=pd.read_csv(\"C:/Users/gheva/OneDrive/Desktop/Durability data.csv\")\n",
    "durability_df"
   ]
  },
  {
   "cell_type": "markdown",
   "id": "0a8418e6-8d60-4033-aa89-8a62e9062664",
   "metadata": {},
   "source": [
    "##99% Confidence interval using sample standard deviation ##"
   ]
  },
  {
   "cell_type": "markdown",
   "id": "23fddb3f-fbc8-40fd-b579-0a45be83fc9e",
   "metadata": {},
   "source": [
    "For calculating the confidence inteval for this problem we use here t distribution because in the data sample standard deviation is provided instead of population standard devation."
   ]
  },
  {
   "cell_type": "code",
   "execution_count": 55,
   "id": "b43d1da1-da19-4731-9b38-8fed900daf46",
   "metadata": {},
   "outputs": [
    {
     "data": {
      "text/plain": [
       "(0.6636474310163384, 1.813685902316995)"
      ]
     },
     "execution_count": 55,
     "metadata": {},
     "output_type": "execute_result"
    }
   ],
   "source": [
    "durability_df.ci=stats.t.interval(0.99,14,loc=durability_df.Durability.mean(),scale=durability_df.Durability.std())\n",
    "durability_df.ci"
   ]
  },
  {
   "cell_type": "code",
   "execution_count": 59,
   "id": "851270e8-618b-4a24-a817-f4b3d085e994",
   "metadata": {},
   "outputs": [
    {
     "name": "stdout",
     "output_type": "stream",
     "text": [
      "Mean at 99% Confidence interval: [0.66 1.81]\n"
     ]
    }
   ],
   "source": [
    "print('Mean at 99% Confidence interval:',np.round(durability_df.ci,2))"
   ]
  },
  {
   "cell_type": "markdown",
   "id": "1f48f9f2-f3d1-4a91-aab8-8f5a13dedbe7",
   "metadata": {},
   "source": [
    "## Interpretation##\n",
    "The mean durability of print-heads in terms of the number of characters printed before failure lies between 0.66 to 1.81"
   ]
  },
  {
   "cell_type": "code",
   "execution_count": null,
   "id": "4fbcd3c9-cce3-4883-aa0c-d0bc14418499",
   "metadata": {},
   "outputs": [],
   "source": []
  },
  {
   "cell_type": "markdown",
   "id": "b6feb874-75e1-416b-aadc-a350acbbaaeb",
   "metadata": {},
   "source": [
    "## 99% Confidence Interval using known population standard deviation##"
   ]
  },
  {
   "cell_type": "code",
   "execution_count": 63,
   "id": "d630dabc-1787-4ca1-85f3-78009903aa5c",
   "metadata": {},
   "outputs": [
    {
     "data": {
      "text/plain": [
       "(0.7411088413267759, 1.7362244920065573)"
      ]
     },
     "execution_count": 63,
     "metadata": {},
     "output_type": "execute_result"
    }
   ],
   "source": [
    "durability_df.ci=stats.norm.interval(0.99,loc=durability_df.Durability.mean(),scale=durability_df.Durability.std())\n",
    "durability_df.ci"
   ]
  },
  {
   "cell_type": "code",
   "execution_count": 65,
   "id": "c4d00681-61f0-41c9-be39-354856cfd4de",
   "metadata": {},
   "outputs": [
    {
     "name": "stdout",
     "output_type": "stream",
     "text": [
      "Mean at 99% Confidence interval: [0.74 1.74]\n"
     ]
    }
   ],
   "source": [
    "print('Mean at 99% Confidence interval:',np.round(durability_df.ci,2))"
   ]
  },
  {
   "cell_type": "markdown",
   "id": "ad9dc1ea-06c0-46f6-8d4b-119d97995313",
   "metadata": {},
   "source": [
    "## Interpretation##\n",
    "The mean durability of print-heads in terms of the number of characters printed before failure lies between 0.74 to 1.74"
   ]
  }
 ],
 "metadata": {
  "kernelspec": {
   "display_name": "Python 3 (ipykernel)",
   "language": "python",
   "name": "python3"
  },
  "language_info": {
   "codemirror_mode": {
    "name": "ipython",
    "version": 3
   },
   "file_extension": ".py",
   "mimetype": "text/x-python",
   "name": "python",
   "nbconvert_exporter": "python",
   "pygments_lexer": "ipython3",
   "version": "3.12.4"
  }
 },
 "nbformat": 4,
 "nbformat_minor": 5
}
