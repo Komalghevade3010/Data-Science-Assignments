{
 "cells": [
  {
   "cell_type": "markdown",
   "id": "52307a46-e309-44f7-8d48-1ac1579efcb1",
   "metadata": {},
   "source": [
    "## Hypothesis Testing##"
   ]
  },
  {
   "cell_type": "code",
   "execution_count": 53,
   "id": "c849787a-18a4-496d-955c-dfcb2e187fd4",
   "metadata": {},
   "outputs": [],
   "source": [
    "from scipy import stats\n",
    "import pandas as pd\n",
    "import numpy as np\n",
    "from math import sqrt"
   ]
  },
  {
   "cell_type": "code",
   "execution_count": null,
   "id": "7ab571f1-e156-4bdf-9873-17230cb186de",
   "metadata": {},
   "outputs": [],
   "source": [
    "##Hypothesis ##\n",
    "H0: The weekly operating costs are not higher than the model suggests.\n",
    "V/S\n",
    "H1: The weekly operating costs are higher than the model suggests."
   ]
  },
  {
   "cell_type": "code",
   "execution_count": null,
   "id": "057534bf-f6dc-4d8c-83f0-77b095bbea3d",
   "metadata": {},
   "outputs": [],
   "source": [
    "# The given data is ,\n",
    "Xbar=3050,Mu=600,sigma=625 Units , n=25\n",
    "The test is one-tailed test."
   ]
  },
  {
   "cell_type": "code",
   "execution_count": 55,
   "id": "b9600b12-15dd-4274-adba-f73f7676ed76",
   "metadata": {},
   "outputs": [
    {
     "data": {
      "text/plain": [
       "19.6"
      ]
     },
     "execution_count": 55,
     "metadata": {},
     "output_type": "execute_result"
    }
   ],
   "source": [
    "## T statistics## \n",
    "t=(3050-600)/(625/sqrt(25))\n",
    "t"
   ]
  },
  {
   "cell_type": "code",
   "execution_count": 57,
   "id": "bcf08e88-2800-41b5-b119-adc82e6dee76",
   "metadata": {},
   "outputs": [
    {
     "name": "stdout",
     "output_type": "stream",
     "text": [
      "Rounded Value= 0.0\n"
     ]
    }
   ],
   "source": [
    "## Critical Value##\n",
    "p=2*stats.norm.cdf(-19.6,24)\n",
    "p\n",
    "print(\"Rounded Value=\",round(p,4))"
   ]
  },
  {
   "cell_type": "code",
   "execution_count": null,
   "id": "2eb9e08c-1927-42d2-9459-40e6eaca606d",
   "metadata": {},
   "outputs": [],
   "source": [
    "## Decision##\n",
    "Alfa = 0.05 , P-value=0 \n",
    "so,P-value<Alfa \n",
    "then we reject null hypothesis and accept alternative hypothesis.\n"
   ]
  },
  {
   "cell_type": "code",
   "execution_count": null,
   "id": "cfcfecee-abee-425b-bbfe-4d9d2e98e728",
   "metadata": {},
   "outputs": [],
   "source": [
    "## Conclusion##\n",
    "We can conclude taht there is strong evidence to support the restaurant owners' claim that the weekly \n",
    "operating costs are higher than the model suggests."
   ]
  },
  {
   "cell_type": "code",
   "execution_count": null,
   "id": "1291890a-f2ec-48cb-9e9f-cac810c1364b",
   "metadata": {},
   "outputs": [],
   "source": []
  },
  {
   "cell_type": "markdown",
   "id": "662fb0f9-f250-4694-9af7-d6b979b4465c",
   "metadata": {},
   "source": [
    "# Chi -square Test#"
   ]
  },
  {
   "cell_type": "code",
   "execution_count": 7,
   "id": "17b1da7c-2fdf-4181-80fd-56afe5561c99",
   "metadata": {},
   "outputs": [],
   "source": [
    "from  scipy .stats import chi2_contingency\n",
    "from matplotlib import pyplot as plt\n",
    "import pandas as pd"
   ]
  },
  {
   "cell_type": "code",
   "execution_count": null,
   "id": "e775d1de-f3b8-4f9f-b600-b1548ba45cb2",
   "metadata": {},
   "outputs": [],
   "source": [
    "## Hypothesis ##\n",
    "H0: The type of smart home purchased and the customer satisfaction level are dependent on each other.\n",
    "V/S\n",
    " H1:The type of smart home purchased and the customer satisfaction level are not dependent on each other.  "
   ]
  },
  {
   "cell_type": "code",
   "execution_count": 17,
   "id": "e8387fb3-cfca-49a9-9af3-56b1467778e3",
   "metadata": {},
   "outputs": [
    {
     "data": {
      "text/plain": [
       "[[50, 70], [80, 100], [60, 90], [30, 50], [20, 50]]"
      ]
     },
     "execution_count": 17,
     "metadata": {},
     "output_type": "execute_result"
    }
   ],
   "source": [
    "data=[[50,70],[80,100],[60,90],[30,50],[20,50]]\n",
    "data\n"
   ]
  },
  {
   "cell_type": "code",
   "execution_count": 25,
   "id": "d75df5ee-1b91-4a99-a796-d3edecb1eaf8",
   "metadata": {},
   "outputs": [
    {
     "data": {
      "text/html": [
       "<div>\n",
       "<style scoped>\n",
       "    .dataframe tbody tr th:only-of-type {\n",
       "        vertical-align: middle;\n",
       "    }\n",
       "\n",
       "    .dataframe tbody tr th {\n",
       "        vertical-align: top;\n",
       "    }\n",
       "\n",
       "    .dataframe thead th {\n",
       "        text-align: right;\n",
       "    }\n",
       "</style>\n",
       "<table border=\"1\" class=\"dataframe\">\n",
       "  <thead>\n",
       "    <tr style=\"text-align: right;\">\n",
       "      <th></th>\n",
       "      <th>Smart Thermostat</th>\n",
       "      <th>SmartLight</th>\n",
       "    </tr>\n",
       "  </thead>\n",
       "  <tbody>\n",
       "    <tr>\n",
       "      <th>Very Satisfied</th>\n",
       "      <td>50</td>\n",
       "      <td>70</td>\n",
       "    </tr>\n",
       "    <tr>\n",
       "      <th>Satisfied</th>\n",
       "      <td>80</td>\n",
       "      <td>100</td>\n",
       "    </tr>\n",
       "    <tr>\n",
       "      <th>Neutral</th>\n",
       "      <td>60</td>\n",
       "      <td>90</td>\n",
       "    </tr>\n",
       "    <tr>\n",
       "      <th>Unsatisfied</th>\n",
       "      <td>30</td>\n",
       "      <td>50</td>\n",
       "    </tr>\n",
       "    <tr>\n",
       "      <th>Very Unsatisfied</th>\n",
       "      <td>20</td>\n",
       "      <td>50</td>\n",
       "    </tr>\n",
       "  </tbody>\n",
       "</table>\n",
       "</div>"
      ],
      "text/plain": [
       "                  Smart Thermostat  SmartLight\n",
       "Very Satisfied                  50          70\n",
       "Satisfied                       80         100\n",
       "Neutral                         60          90\n",
       "Unsatisfied                     30          50\n",
       "Very Unsatisfied                20          50"
      ]
     },
     "execution_count": 25,
     "metadata": {},
     "output_type": "execute_result"
    }
   ],
   "source": [
    "df=pd.DataFrame(data,index=['Very Satisfied','Satisfied','Neutral','Unsatisfied','Very Unsatisfied'],columns=['Smart Thermostat','SmartLight'])\n",
    "df"
   ]
  },
  {
   "cell_type": "code",
   "execution_count": 27,
   "id": "9bf3d8fa-f866-4a51-aef5-bb9447bc88a9",
   "metadata": {},
   "outputs": [],
   "source": [
    "chi2,p,dof,exp=chi2_contingency(data)"
   ]
  },
  {
   "cell_type": "code",
   "execution_count": 29,
   "id": "7e0114be-0a2f-4929-9619-92baa37d64c3",
   "metadata": {},
   "outputs": [
    {
     "data": {
      "text/plain": [
       "Chi2ContingencyResult(statistic=5.638227513227513, pvalue=0.22784371130697179, dof=4, expected_freq=array([[ 48.,  72.],\n",
       "       [ 72., 108.],\n",
       "       [ 60.,  90.],\n",
       "       [ 32.,  48.],\n",
       "       [ 28.,  42.]]))"
      ]
     },
     "execution_count": 29,
     "metadata": {},
     "output_type": "execute_result"
    }
   ],
   "source": [
    "chi2_contingency(data)"
   ]
  },
  {
   "cell_type": "code",
   "execution_count": 33,
   "id": "5453c915-b4b6-4ba5-a568-df71ddef5aa0",
   "metadata": {},
   "outputs": [
    {
     "data": {
      "text/plain": [
       "5.638227513227513"
      ]
     },
     "execution_count": 33,
     "metadata": {},
     "output_type": "execute_result"
    }
   ],
   "source": [
    "## Chi-square statistic##\n",
    "chi2"
   ]
  },
  {
   "cell_type": "code",
   "execution_count": 49,
   "id": "9f94a8e1-d874-4c08-a64c-81d4065a3e39",
   "metadata": {},
   "outputs": [
    {
     "data": {
      "text/plain": [
       "0.22784371130697179"
      ]
     },
     "execution_count": 49,
     "metadata": {},
     "output_type": "execute_result"
    }
   ],
   "source": [
    "## Critical Value## \n",
    "p\n"
   ]
  },
  {
   "cell_type": "code",
   "execution_count": null,
   "id": "1f9d5fe4-9686-4f7c-aa0b-96fb8cdb39a3",
   "metadata": {},
   "outputs": [],
   "source": [
    "## Decision##\n",
    "Alfa=0.05, P-value=0.22\n",
    "so,p-value>Alfa\n",
    "then we accept null hypothesis."
   ]
  },
  {
   "cell_type": "code",
   "execution_count": null,
   "id": "04f75dc4-b0da-41e0-a592-933160b5f09f",
   "metadata": {},
   "outputs": [],
   "source": [
    "## Conclusion##\n",
    "The type of smart home purchased and the customer satisfaction level are dependent on each other.\n",
    "So,we can conclude that there is a significant association between the type of smart home purchased and the customer satisfaction level."
   ]
  }
 ],
 "metadata": {
  "kernelspec": {
   "display_name": "Python 3 (ipykernel)",
   "language": "python",
   "name": "python3"
  },
  "language_info": {
   "codemirror_mode": {
    "name": "ipython",
    "version": 3
   },
   "file_extension": ".py",
   "mimetype": "text/x-python",
   "name": "python",
   "nbconvert_exporter": "python",
   "pygments_lexer": "ipython3",
   "version": "3.12.4"
  }
 },
 "nbformat": 4,
 "nbformat_minor": 5
}
